{
 "cells": [
  {
   "cell_type": "markdown",
   "metadata": {},
   "source": [
    "# Play around with fake data"
   ]
  },
  {
   "cell_type": "code",
   "execution_count": 1,
   "metadata": {},
   "outputs": [
    {
     "data": {
      "text/plain": [
       "<matplotlib.axes._subplots.AxesSubplot at 0x1a1bcedb70>"
      ]
     },
     "execution_count": 1,
     "metadata": {},
     "output_type": "execute_result"
    }
   ],
   "source": [
    "from numpy.random import lognormal\n",
    "import seaborn as sns\n",
    "import numpy as np\n",
    "from models.mm import LogNormalMM\n",
    "import matplotlib.pyplot as plt\n",
    "\n",
    "mu1, sigma1 = 0, 1 # mu and sigma\n",
    "s1 = lognormal(mu1, sigma1, 1000)\n",
    "mu2, sigma2 = 4, 0.125\n",
    "s2 = lognormal(mu2, sigma2, 1000)\n",
    "\n",
    "s = np.concatenate((s1, s2), axis = 0)\n",
    "\n",
    "sns.distplot(s)"
   ]
  },
  {
   "cell_type": "markdown",
   "metadata": {},
   "source": [
    "## Note: Y = lnX yields a normal distribution with parameters mu and sigma"
   ]
  },
  {
   "cell_type": "code",
   "execution_count": 2,
   "metadata": {},
   "outputs": [
    {
     "data": {
      "text/plain": [
       "<matplotlib.axes._subplots.AxesSubplot at 0x1a1dd86668>"
      ]
     },
     "execution_count": 2,
     "metadata": {},
     "output_type": "execute_result"
    },
    {
     "data": {
      "image/png": "[encoded data removed]",
      "text/plain": [
       "<Figure size 432x288 with 1 Axes>"
      ]
     },
     "metadata": {
      "needs_background": "light"
     },
     "output_type": "display_data"
    }
   ],
   "source": [
    "y = np.log(s2)\n",
    "sns.distplot(y)"
   ]
  },
  {
   "cell_type": "code",
   "execution_count": 3,
   "metadata": {},
   "outputs": [
    {
     "data": {
      "text/plain": [
       "0.1275167763460909"
      ]
     },
     "execution_count": 3,
     "metadata": {},
     "output_type": "execute_result"
    }
   ],
   "source": [
    "np.sqrt(np.var(y))"
   ]
  },
  {
   "cell_type": "code",
   "execution_count": 4,
   "metadata": {},
   "outputs": [
    {
     "name": "stdout",
     "output_type": "stream",
     "text": [
      "1.9806923775130698 4.642533536527361\n"
     ]
    }
   ],
   "source": [
    "s = np.concatenate((s1, s2), axis = 0)\n",
    "y = np.log(s)\n",
    "print(np.mean(y), np.var(y))"
   ]
  },
  {
   "cell_type": "markdown",
   "metadata": {},
   "source": [
    "## Using data to fit the model"
   ]
  },
  {
   "cell_type": "markdown",
   "metadata": {},
   "source": [
    "Model API:  <br> <br>\n",
    "logNormalMM.fit(data, max_iterations, verbose) <br> <br>\n",
    "logNormalMM.fit_predict(data, max_iterations, verbose) <br>"
   ]
  },
  {
   "cell_type": "code",
   "execution_count": 6,
   "metadata": {},
   "outputs": [
    {
     "name": "stdout",
     "output_type": "stream",
     "text": [
      "----------Log-Normal Mixture Model Successfully Fit-------------\n",
      "Distribution 1: LogNormal(-0.07645457794722062, 1.0075794765099806), mean: 5.368589806969215, variance: 388.6268827662355\n",
      " Distribution 2: LogNormal(3.976301039625242, 0.2713438437032558), mean: 169.0393611185859, variance: 678940.1977750075\n"
     ]
    }
   ],
   "source": [
    "from models.mm import LogNormalMM\n",
    "log_mm = LogNormalMM(tol=1e-15)\n",
    "prediction = log_mm.fit_predict(s, max_iterations=50, verbose=False)"
   ]
  },
  {
   "cell_type": "code",
   "execution_count": 6,
   "metadata": {},
   "outputs": [
    {
     "name": "stderr",
     "output_type": "stream",
     "text": [
      "/Users/arstan/Documents/ND/19FA/Research/Dynamic-Origin/models/mm.py:232: RuntimeWarning: invalid value encountered in log\n",
      "  u = (np.log(datum)-self.mu) / (abs(self.sigma))\n"
     ]
    },
    {
     "data": {
      "text/plain": [
       "[<matplotlib.lines.Line2D at 0x1a175d1080>]"
      ]
     },
     "execution_count": 6,
     "metadata": {},
     "output_type": "execute_result"
    },
    {
     "data": {
      "image/png": "[encoded data removed]",
      "text/plain": [
       "<Figure size 432x288 with 1 Axes>"
      ]
     },
     "metadata": {
      "needs_background": "light"
     },
     "output_type": "display_data"
    }
   ],
   "source": [
    "sns.distplot(s)\n",
    "x = np.linspace(-20, 100, 2000)\n",
    "log_mix = [log_mm.pdf(i) for i in x]\n",
    "plt.plot(x, log_mix)"
   ]
  },
  {
   "cell_type": "code",
   "execution_count": 8,
   "metadata": {},
   "outputs": [
    {
     "data": {
      "text/plain": [
       "array([0, 1])"
      ]
     },
     "execution_count": 8,
     "metadata": {},
     "output_type": "execute_result"
    }
   ],
   "source": []
  },
  {
   "cell_type": "markdown",
   "metadata": {},
   "source": [
    "# Empirical Experiment From Weibo Data"
   ]
  },
  {
   "cell_type": "code",
   "execution_count": 34,
   "metadata": {
    "scrolled": true
   },
   "outputs": [
    {
     "name": "stdout",
     "output_type": "stream",
     "text": [
      "LogNormal(0.4095871816152291, 0.8499592101933819), mean: 2.1615001858586576, variance: 4.9497585498791965 LogNormal(0.9874969693432061, 0.31065987723839883), mean: 2.8172232845837706, variance: 0.8041520744832602\n",
      "Mixture: LogNormal(0.2944656726781964, 0.3713396664023595), mean: 2.1615001858586576, variance: 4.9497585498791965, LogNormal(0.7637621582602971, 0.18590258440271118), mean: 2.8172232845837706, variance: 0.8041520744832602, mix = 0.5477609557426735\n",
      "Mixture: LogNormal(0.2565815302776714, 0.36728298347719596), mean: 2.1615001858586576, variance: 4.9497585498791965, LogNormal(0.766365540442688, 0.1567840636938465), mean: 2.8172232845837706, variance: 0.8041520744832602, mix = 0.5093641002342648\n",
      "Mixture: LogNormal(0.22079731028508057, 0.35996171717086023), mean: 2.1615001858586576, variance: 4.9497585498791965, LogNormal(0.7607921369021868, 0.15119807921015557), mean: 2.8172232845837706, variance: 0.8041520744832602, mix = 0.4705457489339736\n",
      "Mixture: LogNormal(0.18263531469908129, 0.3393640229086352), mean: 2.1615001858586576, variance: 4.9497585498791965, LogNormal(0.7607048962868123, 0.15110574126626217), mean: 2.8172232845837706, variance: 0.8041520744832602, mix = 0.43940217161745815\n",
      "Mixture: LogNormal(0.13400529355741167, 0.29580234204114353), mean: 2.1615001858586576, variance: 4.9497585498791965, LogNormal(0.7641031609304749, 0.1540776514190538), mean: 2.8172232845837706, variance: 0.8041520744832602, mix = 0.40851319686645754\n",
      "Mixture: LogNormal(0.13400529355741167, 0.29580234204114353), mean: 2.1615001858586576, variance: 4.9497585498791965, LogNormal(0.7641031609304749, 0.1540776514190538), mean: 2.8172232845837706, variance: 0.8041520744832602, mix = 0.40851319686645754\n"
     ]
    },
    {
     "data": {
      "text/plain": [
       "[<matplotlib.lines.Line2D at 0x7f6c601d37d0>]"
      ]
     },
     "execution_count": 34,
     "metadata": {},
     "output_type": "execute_result"
    },
    {
     "data": {
      "image/png": "[encoded data removed]",
      "text/plain": [
       "<Figure size 432x288 with 1 Axes>"
      ]
     },
     "metadata": {
      "needs_background": "light"
     },
     "output_type": "display_data"
    }
   ],
   "source": [
    "from models.mm import LogNormalMM\n",
    "import numpy as np\n",
    "import matplotlib.pyplot as plt\n",
    "from models.models import DataLoader\n",
    "import seaborn as sns\n",
    "\n",
    "DATA_PATH=\"/afs/crc.nd.edu/group/dmsquare/vol3/tzhao2/weibo/data/repost/distr/\"\n",
    "\n",
    "loader = DataLoader(DATA_PATH)\n",
    "\n",
    "real_data, pois, pid = loader.get_data(6)\n",
    "\n",
    "## Fit the log normal mixture model\n",
    "real_data = np.array(real_data)\n",
    "\n",
    "# Check out the fitting process\n",
    "n_iterations = 5\n",
    "best_mix = None\n",
    "best_loglike = float('-inf')\n",
    "mix = LogNormalMM(real_data)\n",
    "for _ in range(n_iterations):\n",
    "    try:\n",
    "        #train!\n",
    "        mix.iterate(verbose=True)\n",
    "        if mix.loglike > best_loglike and mix.mix != np.nan:\n",
    "            best_loglike = mix.loglike\n",
    "            best_mix = mix\n",
    "        \n",
    "    except (ZeroDivisionError, ValueError, RuntimeWarning): # Catch division errors from bad starts, and just throw them out...\n",
    "        pass\n",
    "    \n",
    "sns.distplot(real_data)\n",
    "x = np.linspace(min(real_data)-5, max(real_data)+5, len(real_data))\n",
    "log_mix = [best_mix.pdf(i) for i in x]\n",
    "print(best_mix)\n",
    "plt.plot(x, log_mix)"
   ]
  },
  {
   "cell_type": "code",
   "execution_count": 18,
   "metadata": {},
   "outputs": [],
   "source": [
    "from sklearn.mixture import GaussianMixture"
   ]
  },
  {
   "cell_type": "code",
   "execution_count": 1,
   "metadata": {},
   "outputs": [],
   "source": [
    "from models.mm import LogMM\n",
    "import numpy as np\n",
    "mu, sigma = 3., 1. # mean and standard deviation\n",
    "s1 = np.random.lognormal(mu, sigma, 1000)\n",
    "mu, sigma = 10, 0.5\n",
    "s2 = np.random.lognormal(mu, sigma, 1000)"
   ]
  },
  {
   "cell_type": "code",
   "execution_count": 6,
   "metadata": {},
   "outputs": [],
   "source": [
    "s = np.concatenate((s1, s2), axis=0)"
   ]
  },
  {
   "cell_type": "code",
   "execution_count": 11,
   "metadata": {},
   "outputs": [
    {
     "name": "stdout",
     "output_type": "stream",
     "text": [
      "Start fitting the data to logNormal mixture model.\n",
      "--------------------Parameters-------------------------\n",
      "n_components = 2,tolerance=1e-10, max_iter=1000, init_means = [   33.49547386 25145.85242999], init_variance = [2.51213202e+08 2.51213202e+08], init_weights = [0.5 0.5]\n",
      "-------------------------------------------------------\n",
      "-1386.2943611198905 -35431.48562497551\n",
      "[[0.77872041 0.22127959]\n",
      " [0.77874379 0.22125621]\n",
      " [0.77873902 0.22126098]\n",
      " ...\n",
      " [0.77861241 0.22138759]\n",
      " [0.77858571 0.22141429]\n",
      " [0.77859252 0.22140748]]\n",
      "-1057.1999820628953 -166182479.9301945\n",
      "[[1.e-10 1.e+00]\n",
      " [1.e-10 1.e+00]\n",
      " [1.e-10 1.e+00]\n",
      " ...\n",
      " [1.e-10 1.e+00]\n",
      " [1.e-10 1.e+00]\n",
      " [1.e-10 1.e+00]]\n",
      "-4.8052317088817905e-06 -34712.03372718863\n",
      "[[1.00037560e-10 1.00000000e+00]\n",
      " [1.00037552e-10 1.00000000e+00]\n",
      " [1.00037554e-10 1.00000000e+00]\n",
      " ...\n",
      " [1.00037598e-10 1.00000000e+00]\n",
      " [1.00037607e-10 1.00000000e+00]\n",
      " [1.00037605e-10 1.00000000e+00]]\n",
      "-4.806914090662567e-06 -34712.033556105576\n",
      "[[1.00037559e-10 1.00000000e+00]\n",
      " [1.00037559e-10 1.00000000e+00]\n",
      " [1.00037559e-10 1.00000000e+00]\n",
      " ...\n",
      " [1.00037559e-10 1.00000000e+00]\n",
      " [1.00037559e-10 1.00000000e+00]\n",
      " [1.00037559e-10 1.00000000e+00]]\n",
      "-4.80691310224584e-06 -34712.033556105576\n",
      "Successfully fit the data\n",
      "-------Parameters--------\n",
      "means: [12589.67395277 12589.67395193], variance: [1.58336427e+08 1.58336356e+08], weights: [1.00037559e-10 1.00000000e+00]\n"
     ]
    }
   ],
   "source": [
    "Log_model = LogMM(n_components=2, max_iter=1000, tol=1e-10)\n",
    "Log_model.fit(s)"
   ]
  },
  {
   "cell_type": "code",
   "execution_count": 12,
   "metadata": {},
   "outputs": [
    {
     "data": {
      "text/plain": [
       "4"
      ]
     },
     "execution_count": 12,
     "metadata": {},
     "output_type": "execute_result"
    }
   ],
   "source": [
    "Log_model._best_iter"
   ]
  },
  {
   "cell_type": "code",
   "execution_count": 27,
   "metadata": {},
   "outputs": [],
   "source": [
    "GMM = GaussianMixture(n_components=2, covariance_type=\"spherical\")"
   ]
  },
  {
   "cell_type": "code",
   "execution_count": 28,
   "metadata": {},
   "outputs": [
    {
     "data": {
      "text/plain": [
       "GaussianMixture(covariance_type='spherical', init_params='kmeans', max_iter=100,\n",
       "                means_init=None, n_components=2, n_init=1, precisions_init=None,\n",
       "                random_state=None, reg_covar=1e-06, tol=0.001, verbose=0,\n",
       "                verbose_interval=10, warm_start=False, weights_init=None)"
      ]
     },
     "execution_count": 28,
     "metadata": {},
     "output_type": "execute_result"
    }
   ],
   "source": [
    "GMM.fit(real_data.reshape((-1, 1)))"
   ]
  },
  {
   "cell_type": "code",
   "execution_count": 29,
   "metadata": {},
   "outputs": [
    {
     "data": {
      "text/plain": [
       "array([[1.        ],\n",
       "       [2.24968257]])"
      ]
     },
     "execution_count": 29,
     "metadata": {},
     "output_type": "execute_result"
    }
   ],
   "source": [
    "GMM.means_"
   ]
  },
  {
   "cell_type": "code",
   "execution_count": 30,
   "metadata": {},
   "outputs": [
    {
     "name": "stdout",
     "output_type": "stream",
     "text": [
      "[1.00000000e+06 2.28421798e+00]\n",
      "[0.97560356 0.02439644]\n"
     ]
    }
   ],
   "source": [
    "print(GMM.precisions_)\n",
    "print(GMM.weights_)"
   ]
  },
  {
   "cell_type": "code",
   "execution_count": 31,
   "metadata": {},
   "outputs": [
    {
     "data": {
      "text/plain": [
       "<matplotlib.axes._subplots.AxesSubplot at 0x7f2141aa6a50>"
      ]
     },
     "execution_count": 31,
     "metadata": {},
     "output_type": "execute_result"
    },
    {
     "data": {
      "image/png": "[encoded data removed]",
      "text/plain": [
       "<Figure size 432x288 with 1 Axes>"
      ]
     },
     "metadata": {
      "needs_background": "light"
     },
     "output_type": "display_data"
    }
   ],
   "source": [
    "sns.distplot(real_data)"
   ]
  },
  {
   "cell_type": "markdown",
   "metadata": {},
   "source": [
    "## Log_model._best_iter"
   ]
  },
  {
   "cell_type": "code",
   "execution_count": 3,
   "metadata": {},
   "outputs": [
    {
     "data": {
      "text/plain": [
       "array([nan, nan])"
      ]
     },
     "execution_count": 3,
     "metadata": {},
     "output_type": "execute_result"
    }
   ],
   "source": [
    "Log_model._weights"
   ]
  },
  {
   "cell_type": "code",
   "execution_count": 4,
   "metadata": {},
   "outputs": [
    {
     "data": {
      "text/plain": [
       "array([nan, nan])"
      ]
     },
     "execution_count": 4,
     "metadata": {},
     "output_type": "execute_result"
    }
   ],
   "source": [
    "Log_model._vars"
   ]
  },
  {
   "cell_type": "markdown",
   "metadata": {},
   "source": [
    "# Single Log Normal"
   ]
  },
  {
   "cell_type": "code",
   "execution_count": 2,
   "metadata": {},
   "outputs": [
    {
     "name": "stderr",
     "output_type": "stream",
     "text": [
      "/afs/crc.nd.edu/group/dmsquare/vol3/bni/dynamic_origin/prediction/models/mm.py:231: RuntimeWarning: invalid value encountered in log\n",
      "  u = (np.log(datum)-self.mu) / abs(self.sigma)\n"
     ]
    },
    {
     "data": {
      "text/plain": [
       "[<matplotlib.lines.Line2D at 0x7fb1457f5550>]"
      ]
     },
     "execution_count": 2,
     "metadata": {},
     "output_type": "execute_result"
    }
   ],
   "source": [
    "from models.mm import LogNormal, LogNormalMM\n",
    "import numpy as np\n",
    "import matplotlib.pyplot as plt\n",
    "import seaborn as sns\n",
    "from scipy import stats\n",
    "\n",
    "mu1, sigma1 = 0, 1 # mu and sigma\n",
    "s1 = np.random.lognormal(mu1, sigma1, 1000)\n",
    "mu2, sigma2 = 4, 0.125\n",
    "\n",
    "s2 = np.random.lognormal(mu2, sigma2, 1000)\n",
    "\n",
    "best_single = LogNormal(mu1, sigma1)\n",
    "\n",
    "x = np.linspace(-5, 800, 1000)\n",
    "\n",
    "log_single = [best_single.pdf(i) for i in x]\n",
    "\n",
    "sns.distplot(s1)\n",
    "sns.distplot(s2)\n",
    "plt.xlim([0, 100])\n",
    "plt.plot(x, log_single, label='single gaussian')"
   ]
  },
  {
   "cell_type": "code",
   "execution_count": 8,
   "metadata": {},
   "outputs": [
    {
     "name": "stdout",
     "output_type": "stream",
     "text": [
      "LogNormal(0.5913812043895333, 0.6487900701602367), mean: 2.229651916334742, variance: 2.60188125908962 LogNormal(5.01327154116453, 0.2385490964066598), mean: 154.73660933425887, variance: 1402.029688686859\n",
      "Mixture: LogNormal(0.21284159851288326, 1.313514918164214), mean: 2.229651916334742, variance: 2.60188125908962, LogNormal(4.018069361319494, 0.11122220200507243), mean: 154.73660933425887, variance: 1402.029688686859, mix = 0.5325965293435426\n",
      "Mixture: LogNormal(0.012945849724028093, 1.0340195845510014), mean: 2.229651916334742, variance: 2.60188125908962, LogNormal(4.004417193003693, 0.12178050554620108), mean: 154.73660933425887, variance: 1402.029688686859, mix = 0.5043250366574548\n",
      "Mixture: LogNormal(-0.018166327120519236, 0.9793134065011664), mean: 2.229651916334742, variance: 2.60188125908962, LogNormal(4.002689389403308, 0.12403041771836044), mean: 154.73660933425887, variance: 1402.029688686859, mix = 0.5002097239279024\n",
      "Mixture: LogNormal(-0.019125398498304823, 0.9775916643695319), mean: 2.229651916334742, variance: 2.60188125908962, LogNormal(4.002622290585414, 0.12412156511300969), mean: 154.73660933425887, variance: 1402.029688686859, mix = 0.5000820997690765\n",
      "Mixture: LogNormal(-0.019145518881318685, 0.9775555791955161), mean: 2.229651916334742, variance: 2.60188125908962, LogNormal(4.002620845317361, 0.12412351899854251), mean: 154.73660933425887, variance: 1402.029688686859, mix = 0.5000794182710029\n",
      "Mixture: LogNormal(-0.019145936097004254, 0.9775548310092267), mean: 2.229651916334742, variance: 2.60188125908962, LogNormal(4.002620815302192, 0.12412355957443834), mean: 154.73660933425887, variance: 1402.029688686859, mix = 0.5000793626620652\n",
      "Mixture: LogNormal(-0.01914594474714947, 0.977554815497182), mean: 2.229651916334742, variance: 2.60188125908962, LogNormal(4.002620814679834, 0.12412356041579915), mean: 154.73660933425887, variance: 1402.029688686859, mix = 0.5000793615091164\n",
      "Mixture: LogNormal(-0.0191459449264943, 0.9775548151755699), mean: 2.229651916334742, variance: 2.60188125908962, LogNormal(4.002620814666919, 0.12412356043324325), mean: 154.73660933425887, variance: 1402.029688686859, mix = 0.5000793614852109\n",
      "Mixture: LogNormal(-0.01914594493021271, 0.9775548151689016), mean: 2.229651916334742, variance: 2.60188125908962, LogNormal(4.00262081466665, 0.12412356043360474), mean: 154.73660933425887, variance: 1402.029688686859, mix = 0.5000793614847151\n",
      "Mixture: LogNormal(-0.01914594493028987, 0.9775548151687622), mean: 2.229651916334742, variance: 2.60188125908962, LogNormal(4.002620814666649, 0.12412356043361228), mean: 154.73660933425887, variance: 1402.029688686859, mix = 0.5000793614847051\n",
      "Mixture: LogNormal(-0.01914594493029143, 0.9775548151687593), mean: 2.229651916334742, variance: 2.60188125908962, LogNormal(4.002620814666647, 0.12412356043361243), mean: 154.73660933425887, variance: 1402.029688686859, mix = 0.5000793614847048\n",
      "Mixture: LogNormal(-0.01914594493029148, 0.9775548151687593), mean: 2.229651916334742, variance: 2.60188125908962, LogNormal(4.002620814666647, 0.12412356043361243), mean: 154.73660933425887, variance: 1402.029688686859, mix = 0.5000793614847048\n",
      "Mixture: LogNormal(-0.01914594493029148, 0.9775548151687593), mean: 2.229651916334742, variance: 2.60188125908962, LogNormal(4.002620814666647, 0.12412356043361243), mean: 154.73660933425887, variance: 1402.029688686859, mix = 0.5000793614847048\n",
      "Mixture: LogNormal(-0.01914594493029148, 0.9775548151687593), mean: 2.229651916334742, variance: 2.60188125908962, LogNormal(4.002620814666647, 0.12412356043361243), mean: 154.73660933425887, variance: 1402.029688686859, mix = 0.5000793614847048\n",
      "Mixture: LogNormal(-0.01914594493029148, 0.9775548151687593), mean: 2.229651916334742, variance: 2.60188125908962, LogNormal(4.002620814666647, 0.12412356043361243), mean: 154.73660933425887, variance: 1402.029688686859, mix = 0.5000793614847048\n",
      "Mixture: LogNormal(-0.01914594493029148, 0.9775548151687593), mean: 2.229651916334742, variance: 2.60188125908962, LogNormal(4.002620814666647, 0.12412356043361243), mean: 154.73660933425887, variance: 1402.029688686859, mix = 0.5000793614847048\n",
      "Mixture: LogNormal(-0.01914594493029148, 0.9775548151687593), mean: 2.229651916334742, variance: 2.60188125908962, LogNormal(4.002620814666647, 0.12412356043361243), mean: 154.73660933425887, variance: 1402.029688686859, mix = 0.5000793614847048\n",
      "Mixture: LogNormal(-0.01914594493029148, 0.9775548151687593), mean: 2.229651916334742, variance: 2.60188125908962, LogNormal(4.002620814666647, 0.12412356043361243), mean: 154.73660933425887, variance: 1402.029688686859, mix = 0.5000793614847048\n",
      "Mixture: LogNormal(-0.01914594493029148, 0.9775548151687593), mean: 2.229651916334742, variance: 2.60188125908962, LogNormal(4.002620814666647, 0.12412356043361243), mean: 154.73660933425887, variance: 1402.029688686859, mix = 0.5000793614847048\n",
      "Mixture: LogNormal(-0.01914594493029148, 0.9775548151687593), mean: 2.229651916334742, variance: 2.60188125908962, LogNormal(4.002620814666647, 0.12412356043361243), mean: 154.73660933425887, variance: 1402.029688686859, mix = 0.5000793614847048\n"
     ]
    }
   ],
   "source": [
    "s = np.concatenate((s1, s2), axis = 0)\n",
    "\n",
    "# Check out the fitting process\n",
    "n_iterations = 20\n",
    "best_mix = None\n",
    "best_loglike = float('-inf')\n",
    "mix = LogNormalMM(s)\n",
    "for _ in range(n_iterations):\n",
    "    try:\n",
    "        #train!\n",
    "        mix.iterate(verbose=True)\n",
    "        if mix.loglike > best_loglike:\n",
    "            best_loglike = mix.loglike\n",
    "            best_mix = mix\n",
    "        \n",
    "    except (ZeroDivisionError, ValueError, RuntimeWarning): # Catch division errors from bad starts, and just throw them out...\n",
    "        pass"
   ]
  },
  {
   "cell_type": "code",
   "execution_count": 9,
   "metadata": {},
   "outputs": [
    {
     "name": "stdout",
     "output_type": "stream",
     "text": [
      "Mixture: LogNormal(-0.01914594493029148, 0.9775548151687593), mean: 2.229651916334742, variance: 2.60188125908962, LogNormal(4.002620814666647, 0.12412356043361243), mean: 154.73660933425887, variance: 1402.029688686859, mix = 0.5000793614847048\n"
     ]
    }
   ],
   "source": [
    "print(mix)"
   ]
  },
  {
   "cell_type": "code",
   "execution_count": 10,
   "metadata": {},
   "outputs": [
    {
     "data": {
      "text/plain": [
       "[<matplotlib.lines.Line2D at 0x7fb11fcc9250>]"
      ]
     },
     "execution_count": 10,
     "metadata": {},
     "output_type": "execute_result"
    },
    {
     "data": {
      "image/png": "[encoded data removed]",
      "text/plain": [
       "<Figure size 432x288 with 1 Axes>"
      ]
     },
     "metadata": {
      "needs_background": "light"
     },
     "output_type": "display_data"
    }
   ],
   "source": [
    "sns.distplot(s)\n",
    "x = np.linspace(0, 100, 2000)\n",
    "log_mix = [mix.pdf(i) for i in x]\n",
    "plt.plot(x, log_mix)"
   ]
  },
  {
   "cell_type": "code",
   "execution_count": 11,
   "metadata": {},
   "outputs": [
    {
     "data": {
      "text/plain": [
       "8.775533160076639e-05"
      ]
     },
     "execution_count": 11,
     "metadata": {},
     "output_type": "execute_result"
    }
   ],
   "source": [
    "0.5*mix.one.pdf(20) + 0.5 * mix.two.pdf(20)"
   ]
  },
  {
   "cell_type": "code",
   "execution_count": 12,
   "metadata": {},
   "outputs": [
    {
     "data": {
      "text/plain": [
       "8.776926038757947e-05"
      ]
     },
     "execution_count": 12,
     "metadata": {},
     "output_type": "execute_result"
    }
   ],
   "source": [
    "mix.pdf(20)"
   ]
  },
  {
   "cell_type": "code",
   "execution_count": null,
   "metadata": {},
   "outputs": [],
   "source": []
  }
 ],
 "metadata": {
  "kernelspec": {
   "display_name": "Python 3",
   "language": "python",
   "name": "python3"
  },
  "language_info": {
   "codemirror_mode": {
    "name": "ipython",
    "version": 3
   },
   "file_extension": ".py",
   "mimetype": "text/x-python",
   "name": "python",
   "nbconvert_exporter": "python",
   "pygments_lexer": "ipython3",
   "version": "3.6.8"
  }
 },
 "nbformat": 4,
 "nbformat_minor": 2
}
